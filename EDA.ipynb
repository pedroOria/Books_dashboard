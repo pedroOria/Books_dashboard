{
 "cells": [
  {
   "cell_type": "code",
   "execution_count": 12,
   "metadata": {},
   "outputs": [],
   "source": [
    "import pandas as pd"
   ]
  },
  {
   "cell_type": "code",
   "execution_count": 13,
   "metadata": {},
   "outputs": [
    {
     "data": {
      "text/html": [
       "<div>\n",
       "<style scoped>\n",
       "    .dataframe tbody tr th:only-of-type {\n",
       "        vertical-align: middle;\n",
       "    }\n",
       "\n",
       "    .dataframe tbody tr th {\n",
       "        vertical-align: top;\n",
       "    }\n",
       "\n",
       "    .dataframe thead th {\n",
       "        text-align: right;\n",
       "    }\n",
       "</style>\n",
       "<table border=\"1\" class=\"dataframe\">\n",
       "  <thead>\n",
       "    <tr style=\"text-align: right;\">\n",
       "      <th></th>\n",
       "      <th>isbn13</th>\n",
       "      <th>isbn10</th>\n",
       "      <th>title</th>\n",
       "      <th>subtitle</th>\n",
       "      <th>authors</th>\n",
       "      <th>categories</th>\n",
       "      <th>thumbnail</th>\n",
       "      <th>description</th>\n",
       "      <th>published_year</th>\n",
       "      <th>average_rating</th>\n",
       "      <th>num_pages</th>\n",
       "      <th>ratings_count</th>\n",
       "    </tr>\n",
       "  </thead>\n",
       "  <tbody>\n",
       "    <tr>\n",
       "      <th>0</th>\n",
       "      <td>9780002005883</td>\n",
       "      <td>0002005883</td>\n",
       "      <td>Gilead</td>\n",
       "      <td>NaN</td>\n",
       "      <td>Marilynne Robinson</td>\n",
       "      <td>Fiction</td>\n",
       "      <td>http://books.google.com/books/content?id=KQZCP...</td>\n",
       "      <td>A NOVEL THAT READERS and critics have been eag...</td>\n",
       "      <td>2004.0</td>\n",
       "      <td>3.85</td>\n",
       "      <td>247.0</td>\n",
       "      <td>361.0</td>\n",
       "    </tr>\n",
       "    <tr>\n",
       "      <th>1</th>\n",
       "      <td>9780002261982</td>\n",
       "      <td>0002261987</td>\n",
       "      <td>Spider's Web</td>\n",
       "      <td>A Novel</td>\n",
       "      <td>Charles Osborne;Agatha Christie</td>\n",
       "      <td>Detective and mystery stories</td>\n",
       "      <td>http://books.google.com/books/content?id=gA5GP...</td>\n",
       "      <td>A new 'Christie for Christmas' -- a full-lengt...</td>\n",
       "      <td>2000.0</td>\n",
       "      <td>3.83</td>\n",
       "      <td>241.0</td>\n",
       "      <td>5164.0</td>\n",
       "    </tr>\n",
       "    <tr>\n",
       "      <th>2</th>\n",
       "      <td>9780006163831</td>\n",
       "      <td>0006163831</td>\n",
       "      <td>The One Tree</td>\n",
       "      <td>NaN</td>\n",
       "      <td>Stephen R. Donaldson</td>\n",
       "      <td>American fiction</td>\n",
       "      <td>http://books.google.com/books/content?id=OmQaw...</td>\n",
       "      <td>Volume Two of Stephen Donaldson's acclaimed se...</td>\n",
       "      <td>1982.0</td>\n",
       "      <td>3.97</td>\n",
       "      <td>479.0</td>\n",
       "      <td>172.0</td>\n",
       "    </tr>\n",
       "    <tr>\n",
       "      <th>3</th>\n",
       "      <td>9780006178736</td>\n",
       "      <td>0006178731</td>\n",
       "      <td>Rage of angels</td>\n",
       "      <td>NaN</td>\n",
       "      <td>Sidney Sheldon</td>\n",
       "      <td>Fiction</td>\n",
       "      <td>http://books.google.com/books/content?id=FKo2T...</td>\n",
       "      <td>A memorable, mesmerizing heroine Jennifer -- b...</td>\n",
       "      <td>1993.0</td>\n",
       "      <td>3.93</td>\n",
       "      <td>512.0</td>\n",
       "      <td>29532.0</td>\n",
       "    </tr>\n",
       "    <tr>\n",
       "      <th>4</th>\n",
       "      <td>9780006280897</td>\n",
       "      <td>0006280897</td>\n",
       "      <td>The Four Loves</td>\n",
       "      <td>NaN</td>\n",
       "      <td>Clive Staples Lewis</td>\n",
       "      <td>Christian life</td>\n",
       "      <td>http://books.google.com/books/content?id=XhQ5X...</td>\n",
       "      <td>Lewis' work on the nature of love divides love...</td>\n",
       "      <td>2002.0</td>\n",
       "      <td>4.15</td>\n",
       "      <td>170.0</td>\n",
       "      <td>33684.0</td>\n",
       "    </tr>\n",
       "  </tbody>\n",
       "</table>\n",
       "</div>"
      ],
      "text/plain": [
       "          isbn13      isbn10           title subtitle  \\\n",
       "0  9780002005883  0002005883          Gilead      NaN   \n",
       "1  9780002261982  0002261987    Spider's Web  A Novel   \n",
       "2  9780006163831  0006163831    The One Tree      NaN   \n",
       "3  9780006178736  0006178731  Rage of angels      NaN   \n",
       "4  9780006280897  0006280897  The Four Loves      NaN   \n",
       "\n",
       "                           authors                     categories  \\\n",
       "0               Marilynne Robinson                        Fiction   \n",
       "1  Charles Osborne;Agatha Christie  Detective and mystery stories   \n",
       "2             Stephen R. Donaldson               American fiction   \n",
       "3                   Sidney Sheldon                        Fiction   \n",
       "4              Clive Staples Lewis                 Christian life   \n",
       "\n",
       "                                           thumbnail  \\\n",
       "0  http://books.google.com/books/content?id=KQZCP...   \n",
       "1  http://books.google.com/books/content?id=gA5GP...   \n",
       "2  http://books.google.com/books/content?id=OmQaw...   \n",
       "3  http://books.google.com/books/content?id=FKo2T...   \n",
       "4  http://books.google.com/books/content?id=XhQ5X...   \n",
       "\n",
       "                                         description  published_year  \\\n",
       "0  A NOVEL THAT READERS and critics have been eag...          2004.0   \n",
       "1  A new 'Christie for Christmas' -- a full-lengt...          2000.0   \n",
       "2  Volume Two of Stephen Donaldson's acclaimed se...          1982.0   \n",
       "3  A memorable, mesmerizing heroine Jennifer -- b...          1993.0   \n",
       "4  Lewis' work on the nature of love divides love...          2002.0   \n",
       "\n",
       "   average_rating  num_pages  ratings_count  \n",
       "0            3.85      247.0          361.0  \n",
       "1            3.83      241.0         5164.0  \n",
       "2            3.97      479.0          172.0  \n",
       "3            3.93      512.0        29532.0  \n",
       "4            4.15      170.0        33684.0  "
      ]
     },
     "execution_count": 13,
     "metadata": {},
     "output_type": "execute_result"
    }
   ],
   "source": [
    "df_books = pd.read_csv('data/books.csv')\n",
    "df_books.head()"
   ]
  },
  {
   "cell_type": "code",
   "execution_count": 14,
   "metadata": {},
   "outputs": [
    {
     "name": "stdout",
     "output_type": "stream",
     "text": [
      "<class 'pandas.core.frame.DataFrame'>\n",
      "RangeIndex: 6810 entries, 0 to 6809\n",
      "Data columns (total 12 columns):\n",
      " #   Column          Non-Null Count  Dtype  \n",
      "---  ------          --------------  -----  \n",
      " 0   isbn13          6810 non-null   int64  \n",
      " 1   isbn10          6810 non-null   object \n",
      " 2   title           6810 non-null   object \n",
      " 3   subtitle        2381 non-null   object \n",
      " 4   authors         6738 non-null   object \n",
      " 5   categories      6711 non-null   object \n",
      " 6   thumbnail       6481 non-null   object \n",
      " 7   description     6548 non-null   object \n",
      " 8   published_year  6804 non-null   float64\n",
      " 9   average_rating  6767 non-null   float64\n",
      " 10  num_pages       6767 non-null   float64\n",
      " 11  ratings_count   6767 non-null   float64\n",
      "dtypes: float64(4), int64(1), object(7)\n",
      "memory usage: 638.6+ KB\n"
     ]
    }
   ],
   "source": [
    "df_books.info()"
   ]
  },
  {
   "cell_type": "markdown",
   "metadata": {},
   "source": [
    "### CHECK NULL VALUE"
   ]
  },
  {
   "cell_type": "code",
   "execution_count": 15,
   "metadata": {},
   "outputs": [
    {
     "data": {
      "text/plain": [
       "isbn13               0\n",
       "isbn10               0\n",
       "title                0\n",
       "subtitle          4429\n",
       "authors             72\n",
       "categories          99\n",
       "thumbnail          329\n",
       "description        262\n",
       "published_year       6\n",
       "average_rating      43\n",
       "num_pages           43\n",
       "ratings_count       43\n",
       "dtype: int64"
      ]
     },
     "execution_count": 15,
     "metadata": {},
     "output_type": "execute_result"
    }
   ],
   "source": [
    "df_books.isna().sum() "
   ]
  },
  {
   "cell_type": "markdown",
   "metadata": {},
   "source": [
    "### CHECK DUPLICATED DATA"
   ]
  },
  {
   "cell_type": "code",
   "execution_count": 16,
   "metadata": {},
   "outputs": [
    {
     "name": "stdout",
     "output_type": "stream",
     "text": [
      "0\n"
     ]
    }
   ],
   "source": [
    "print(df_books.duplicated().sum()) "
   ]
  },
  {
   "cell_type": "markdown",
   "metadata": {},
   "source": [
    "# Data Features\n",
    "\n",
    "- **isbn13**: Código ISBN de 13 dígitos que identifica de manera única cada libro.\n",
    "- **isbn10**: Código ISBN de 10 dígitos, versión más antigua del ISBN.\n",
    "- **title**: El título del libro.\n",
    "- **subtitle**: El subtítulo del libro (si lo tiene).\n",
    "- **authors**: Nombre(s) del o los autores del libro.\n",
    "- **categories**: Categorías o géneros a los que pertenece el libro.\n",
    "- **thumbnail**: URL de la imagen miniatura del libro.\n",
    "- **description**: Descripción o sinopsis del libro.\n",
    "- **published_year**: El año en que el libro fue publicado.\n",
    "- **average_rating**: La calificación promedio de los usuarios sobre el libro.\n",
    "- **num_pages**: El número de páginas del libro.\n",
    "- **ratings_count**: El número total de calificaciones recibidas por el libro."
   ]
  },
  {
   "cell_type": "markdown",
   "metadata": {},
   "source": [
    "# Data Preproccessing"
   ]
  },
  {
   "cell_type": "markdown",
   "metadata": {},
   "source": [
    "#### Primero separaremos los campos que vamos a usar "
   ]
  },
  {
   "cell_type": "code",
   "execution_count": 99,
   "metadata": {},
   "outputs": [],
   "source": [
    "df_books = df_books[['title','subtitle','authors','categories','description','published_year','average_rating','ratings_count']]"
   ]
  },
  {
   "cell_type": "markdown",
   "metadata": {},
   "source": [
    "#### Empezaremos con el campo subtitle ####"
   ]
  },
  {
   "cell_type": "code",
   "execution_count": 24,
   "metadata": {},
   "outputs": [
    {
     "name": "stdout",
     "output_type": "stream",
     "text": [
      "4429\n"
     ]
    }
   ],
   "source": [
    "print(df_books.subtitle.isna().sum())"
   ]
  },
  {
   "cell_type": "code",
   "execution_count": 30,
   "metadata": {},
   "outputs": [
    {
     "data": {
      "text/plain": [
       "0                                                NaN\n",
       "1                                            A Novel\n",
       "2                                                NaN\n",
       "3                                                NaN\n",
       "4                                                NaN\n",
       "5                                                NaN\n",
       "6                                                NaN\n",
       "7     A History of the Indian Ocean and Its Invaders\n",
       "8                                    Chaos and Order\n",
       "9                                                NaN\n",
       "10                                               NaN\n",
       "11                                               NaN\n",
       "12                                               NaN\n",
       "13                                               NaN\n",
       "14                                               NaN\n",
       "15                                               NaN\n",
       "16                                               NaN\n",
       "17                                               NaN\n",
       "18                                               NaN\n",
       "19                                               NaN\n",
       "Name: subtitle, dtype: object"
      ]
     },
     "execution_count": 30,
     "metadata": {},
     "output_type": "execute_result"
    }
   ],
   "source": [
    "df_books.subtitle[0:20]"
   ]
  },
  {
   "cell_type": "code",
   "execution_count": 31,
   "metadata": {},
   "outputs": [],
   "source": [
    "# Reemplazamos los nulos por \"without subtitle\"\n",
    "df_books['subtitle'].fillna(\"without subtitle\",inplace=True)"
   ]
  },
  {
   "cell_type": "code",
   "execution_count": 33,
   "metadata": {},
   "outputs": [
    {
     "data": {
      "text/plain": [
       "np.int64(0)"
      ]
     },
     "execution_count": 33,
     "metadata": {},
     "output_type": "execute_result"
    }
   ],
   "source": [
    "df_books['subtitle'].isna().sum()"
   ]
  },
  {
   "cell_type": "markdown",
   "metadata": {},
   "source": [
    "#### Trataremos el campo authors"
   ]
  },
  {
   "cell_type": "code",
   "execution_count": 43,
   "metadata": {},
   "outputs": [
    {
     "data": {
      "text/plain": [
       "np.int64(72)"
      ]
     },
     "execution_count": 43,
     "metadata": {},
     "output_type": "execute_result"
    }
   ],
   "source": [
    "# vemos cuantos nulos tiene el campo authors\n",
    "df_books.authors.isna().sum()"
   ]
  },
  {
   "cell_type": "code",
   "execution_count": 102,
   "metadata": {},
   "outputs": [
    {
     "data": {
      "text/html": [
       "<div>\n",
       "<style scoped>\n",
       "    .dataframe tbody tr th:only-of-type {\n",
       "        vertical-align: middle;\n",
       "    }\n",
       "\n",
       "    .dataframe tbody tr th {\n",
       "        vertical-align: top;\n",
       "    }\n",
       "\n",
       "    .dataframe thead th {\n",
       "        text-align: right;\n",
       "    }\n",
       "</style>\n",
       "<table border=\"1\" class=\"dataframe\">\n",
       "  <thead>\n",
       "    <tr style=\"text-align: right;\">\n",
       "      <th></th>\n",
       "      <th>title</th>\n",
       "      <th>subtitle</th>\n",
       "      <th>authors</th>\n",
       "      <th>categories</th>\n",
       "      <th>description</th>\n",
       "      <th>published_year</th>\n",
       "      <th>average_rating</th>\n",
       "      <th>ratings_count</th>\n",
       "    </tr>\n",
       "  </thead>\n",
       "  <tbody>\n",
       "  </tbody>\n",
       "</table>\n",
       "</div>"
      ],
      "text/plain": [
       "Empty DataFrame\n",
       "Columns: [title, subtitle, authors, categories, description, published_year, average_rating, ratings_count]\n",
       "Index: []"
      ]
     },
     "execution_count": 102,
     "metadata": {},
     "output_type": "execute_result"
    }
   ],
   "source": [
    "# analizamos los nulos dentro del campo authors, verificamos en internet y estos libros si tienen autor\n",
    "df_books[df_books.authors.isna()].head()"
   ]
  },
  {
   "cell_type": "code",
   "execution_count": 78,
   "metadata": {},
   "outputs": [
    {
     "data": {
      "text/plain": [
       "['Wodehouse on crime',\n",
       " 'Burt Dow, Deep-Water Man',\n",
       " 'The Epic of Gilgamesh',\n",
       " \"One Flew Over the Cuckoo's Nest\",\n",
       " 'A Year Down Yonder',\n",
       " 'Tales of the Norse Gods',\n",
       " 'Sir Gawain and the Green Knight, Pearl, and Sir Orfeo',\n",
       " 'Flap Your Wings',\n",
       " 'Big Dog ... Little Dog',\n",
       " 'Maccabbees',\n",
       " 'Atonement',\n",
       " 'Three Greek Plays',\n",
       " \"McElligot's Pool\",\n",
       " \"Dr. Seuss's Sleep Book\",\n",
       " \"Eric Carle's Very Little Library: The very hungry caterpillar (1st board book ed., 1994)\",\n",
       " 'Amphigorey',\n",
       " 'Blow Fly',\n",
       " \"About the B'nai Bagels\",\n",
       " 'Wizard and Glass',\n",
       " 'The Gunslinger',\n",
       " 'Grade 4 Common Core Exemplar Collection',\n",
       " 'The Drama of the Gifted Child',\n",
       " 'Out of this World',\n",
       " 'Sherlock Holmes the Complete Novels and Stories Book Discussion Kit',\n",
       " 'Frankenstein: City of Night: A Novel',\n",
       " 'Breakfast of Champions',\n",
       " 'Summer for the Gods',\n",
       " 'Gift from the Sea',\n",
       " 'The Sibley Field Guide to Birds of Western North America',\n",
       " 'The Little Butterfly',\n",
       " \"Three Tales of My Father's Dragon\",\n",
       " 'Second Home',\n",
       " 'The Legend of the Poinsettia',\n",
       " 'Middlesex Borough',\n",
       " 'The Lord of the Rings',\n",
       " 'The Three Musketeers',\n",
       " 'New Complete Guide to Sewing',\n",
       " 'Irish Blessings',\n",
       " 'Beauty and the Beast',\n",
       " 'New X-Men - Volume 1',\n",
       " 'Astonishing X-Men - Volume 2',\n",
       " 'Astonishing X-Men - Volume 3',\n",
       " 'Black Widow',\n",
       " 'Supreme Power',\n",
       " 'Ultimate Spider-Man - Volume 16',\n",
       " 'Ultimate X-Men - Volume 14',\n",
       " 'Ultimate Spider-Man -',\n",
       " 'Marvel 1602',\n",
       " 'Ultimate Annuals -',\n",
       " 'Anita Blake, Vampire Hunter',\n",
       " \"A Young Person's Guide to Philosophy\",\n",
       " \"Gulliver's Travels\",\n",
       " \"William Shakespeare's Romeo and Juliet\",\n",
       " 'The Mysterious Island',\n",
       " 'A Picture Book of Thomas Jefferson',\n",
       " 'A Picture Book of Anne Frank',\n",
       " 'Head, Shoulders, Knees and Toes ...',\n",
       " 'King Arthur Flour Whole Grain Baking',\n",
       " \"The Beatles' Story on Capitol Records\",\n",
       " 'The Mind Parasites',\n",
       " 'See No Evil',\n",
       " 'Love',\n",
       " 'The Book of the Dragon',\n",
       " 'The Gangs of New York',\n",
       " 'Mangoes & Curry Leaves',\n",
       " \"Any Woman's Blues\",\n",
       " 'What Do Women Want?',\n",
       " 'Museum of Terror',\n",
       " 'Crime Novels',\n",
       " 'Carnet de Voyage',\n",
       " \"McSweeney's\",\n",
       " \"Scott Pilgrim's Precious Little Life\"]"
      ]
     },
     "execution_count": 78,
     "metadata": {},
     "output_type": "execute_result"
    }
   ],
   "source": [
    "# creamos una lista con los titulos de los libros que les falta autor para buscarlos usando web scraping\n",
    "df_title_null = df_books[df_books.authors.isna()]['title'].tolist() \n",
    "df_title_null"
   ]
  },
  {
   "cell_type": "code",
   "execution_count": 79,
   "metadata": {},
   "outputs": [],
   "source": [
    "import requests\n",
    "\n",
    "# Función para obtener el autor de un libro por su título\n",
    "def get_author_by_title(title):\n",
    "    url = \"https://www.googleapis.com/books/v1/volumes\"  # Endpoint de la API de Google Books\n",
    "    params = {\n",
    "        'q': title,  # Parámetro de búsqueda: título del libro\n",
    "        'fields': 'items(volumeInfo(title,authors))',  # Campos que queremos obtener: título y autores\n",
    "        'maxResults': 1  # Queremos solo el primer resultado\n",
    "    }\n",
    "    \n",
    "    # Hacemos la solicitud GET a la API con el título y los parámetros\n",
    "    response = requests.get(url, params=params)\n",
    "    \n",
    "    # Si la solicitud fue exitosa (código de estado 200)\n",
    "    if response.status_code == 200:\n",
    "        data = response.json()  # Convertimos la respuesta en formato JSON\n",
    "        \n",
    "        # Si encontramos resultados y hay autores en el primer resultado\n",
    "        if 'items' in data and 'authors' in data['items'][0]['volumeInfo']:\n",
    "            return data['items'][0]['volumeInfo']['authors'][0]  # Retornamos el primer autor\n",
    "        else:\n",
    "            return 'Author not found'  # Si no hay autores, devolvemos un mensaje\n",
    "    else:\n",
    "        return 'Request failed'  # Si la solicitud falló, devolvemos un mensaje de error"
   ]
  },
  {
   "cell_type": "code",
   "execution_count": 82,
   "metadata": {},
   "outputs": [],
   "source": [
    "# creamos diccionario para almacenar los autores\n",
    "authors_dict = {}"
   ]
  },
  {
   "cell_type": "code",
   "execution_count": 83,
   "metadata": {},
   "outputs": [],
   "source": [
    "# Iteramos sobre la lista de títulos\n",
    "for title in df_title_null:\n",
    "    author = get_author_by_title(title)\n",
    "    authors_dict[title] = author"
   ]
  },
  {
   "cell_type": "code",
   "execution_count": 86,
   "metadata": {},
   "outputs": [
    {
     "name": "stdout",
     "output_type": "stream",
     "text": [
      "0\n"
     ]
    }
   ],
   "source": [
    "# Reemplazar valores nulos en 'authors' usando el diccionario\n",
    "df_books['authors'] = df_books.apply(\n",
    "    lambda row: authors_dict.get(row['title'], row['authors']) if pd.isnull(row['authors']) else row['authors'], axis=1\n",
    ")\n",
    "\n",
    "# Verificar que los valores nulos han sido reemplazados\n",
    "print(df_books['authors'].isnull().sum())\n"
   ]
  },
  {
   "cell_type": "markdown",
   "metadata": {},
   "source": [
    "#### Categories"
   ]
  },
  {
   "cell_type": "code",
   "execution_count": 103,
   "metadata": {},
   "outputs": [
    {
     "data": {
      "text/html": [
       "<div>\n",
       "<style scoped>\n",
       "    .dataframe tbody tr th:only-of-type {\n",
       "        vertical-align: middle;\n",
       "    }\n",
       "\n",
       "    .dataframe tbody tr th {\n",
       "        vertical-align: top;\n",
       "    }\n",
       "\n",
       "    .dataframe thead th {\n",
       "        text-align: right;\n",
       "    }\n",
       "</style>\n",
       "<table border=\"1\" class=\"dataframe\">\n",
       "  <thead>\n",
       "    <tr style=\"text-align: right;\">\n",
       "      <th></th>\n",
       "      <th>title</th>\n",
       "      <th>subtitle</th>\n",
       "      <th>authors</th>\n",
       "      <th>categories</th>\n",
       "      <th>description</th>\n",
       "      <th>published_year</th>\n",
       "      <th>average_rating</th>\n",
       "      <th>ratings_count</th>\n",
       "    </tr>\n",
       "  </thead>\n",
       "  <tbody>\n",
       "    <tr>\n",
       "      <th>16</th>\n",
       "      <td>Well of Darkness</td>\n",
       "      <td>without subtitle</td>\n",
       "      <td>Margaret Weis;Tracy Hickman</td>\n",
       "      <td>NaN</td>\n",
       "      <td>Gareth is just a frightened young lad when he ...</td>\n",
       "      <td>2001.0</td>\n",
       "      <td>3.66</td>\n",
       "      <td>68.0</td>\n",
       "    </tr>\n",
       "    <tr>\n",
       "      <th>555</th>\n",
       "      <td>The Professor of Desire</td>\n",
       "      <td>without subtitle</td>\n",
       "      <td>Philip Roth</td>\n",
       "      <td>NaN</td>\n",
       "      <td>As a student in college, David Kepesh styles h...</td>\n",
       "      <td>1995.0</td>\n",
       "      <td>3.65</td>\n",
       "      <td>1950.0</td>\n",
       "    </tr>\n",
       "    <tr>\n",
       "      <th>644</th>\n",
       "      <td>The Pearl</td>\n",
       "      <td>The Red Pony ; Ill. by Wesley Dennis ; [both B...</td>\n",
       "      <td>John Steinbeck</td>\n",
       "      <td>NaN</td>\n",
       "      <td>NaN</td>\n",
       "      <td>1987.0</td>\n",
       "      <td>3.64</td>\n",
       "      <td>1431.0</td>\n",
       "    </tr>\n",
       "    <tr>\n",
       "      <th>646</th>\n",
       "      <td>Wodehouse on crime</td>\n",
       "      <td>without subtitle</td>\n",
       "      <td>Pelham Grenville Wodehouse</td>\n",
       "      <td>NaN</td>\n",
       "      <td>NaN</td>\n",
       "      <td>1981.0</td>\n",
       "      <td>4.39</td>\n",
       "      <td>3143.0</td>\n",
       "    </tr>\n",
       "    <tr>\n",
       "      <th>650</th>\n",
       "      <td>The New York Trilogy</td>\n",
       "      <td>Ghosts</td>\n",
       "      <td>Paul Auster</td>\n",
       "      <td>NaN</td>\n",
       "      <td>NaN</td>\n",
       "      <td>1987.0</td>\n",
       "      <td>3.79</td>\n",
       "      <td>11696.0</td>\n",
       "    </tr>\n",
       "    <tr>\n",
       "      <th>...</th>\n",
       "      <td>...</td>\n",
       "      <td>...</td>\n",
       "      <td>...</td>\n",
       "      <td>...</td>\n",
       "      <td>...</td>\n",
       "      <td>...</td>\n",
       "      <td>...</td>\n",
       "      <td>...</td>\n",
       "    </tr>\n",
       "    <tr>\n",
       "      <th>6722</th>\n",
       "      <td>Collected Works of Carson McCullers</td>\n",
       "      <td>without subtitle</td>\n",
       "      <td>Carson McCullers</td>\n",
       "      <td>NaN</td>\n",
       "      <td>NaN</td>\n",
       "      <td>2017.0</td>\n",
       "      <td>4.38</td>\n",
       "      <td>1015.0</td>\n",
       "    </tr>\n",
       "    <tr>\n",
       "      <th>6785</th>\n",
       "      <td>J. D. Salinger, The Catcher in the Rye</td>\n",
       "      <td>Annotations and Study Aids</td>\n",
       "      <td>Jerome David Salinger;Rudolph F. Rau</td>\n",
       "      <td>NaN</td>\n",
       "      <td>NaN</td>\n",
       "      <td>1999.0</td>\n",
       "      <td>3.80</td>\n",
       "      <td>69.0</td>\n",
       "    </tr>\n",
       "    <tr>\n",
       "      <th>6786</th>\n",
       "      <td>In the Country of Last Things</td>\n",
       "      <td>Hauptbd.</td>\n",
       "      <td>Paul Auster</td>\n",
       "      <td>NaN</td>\n",
       "      <td>NaN</td>\n",
       "      <td>2001.0</td>\n",
       "      <td>3.91</td>\n",
       "      <td>6230.0</td>\n",
       "    </tr>\n",
       "    <tr>\n",
       "      <th>6787</th>\n",
       "      <td>About a Boy</td>\n",
       "      <td>without subtitle</td>\n",
       "      <td>Nick Hornby</td>\n",
       "      <td>NaN</td>\n",
       "      <td>NaN</td>\n",
       "      <td>2002.0</td>\n",
       "      <td>3.80</td>\n",
       "      <td>155.0</td>\n",
       "    </tr>\n",
       "    <tr>\n",
       "      <th>6800</th>\n",
       "      <td>Nietzsche For Beginners</td>\n",
       "      <td>without subtitle</td>\n",
       "      <td>Marc Sautet</td>\n",
       "      <td>NaN</td>\n",
       "      <td>Not only does Nietzsche for Beginners delve in...</td>\n",
       "      <td>2004.0</td>\n",
       "      <td>3.26</td>\n",
       "      <td>21.0</td>\n",
       "    </tr>\n",
       "  </tbody>\n",
       "</table>\n",
       "<p>99 rows × 8 columns</p>\n",
       "</div>"
      ],
      "text/plain": [
       "                                       title  \\\n",
       "16                          Well of Darkness   \n",
       "555                  The Professor of Desire   \n",
       "644                                The Pearl   \n",
       "646                       Wodehouse on crime   \n",
       "650                     The New York Trilogy   \n",
       "...                                      ...   \n",
       "6722     Collected Works of Carson McCullers   \n",
       "6785  J. D. Salinger, The Catcher in the Rye   \n",
       "6786           In the Country of Last Things   \n",
       "6787                             About a Boy   \n",
       "6800                 Nietzsche For Beginners   \n",
       "\n",
       "                                               subtitle  \\\n",
       "16                                     without subtitle   \n",
       "555                                    without subtitle   \n",
       "644   The Red Pony ; Ill. by Wesley Dennis ; [both B...   \n",
       "646                                    without subtitle   \n",
       "650                                              Ghosts   \n",
       "...                                                 ...   \n",
       "6722                                   without subtitle   \n",
       "6785                         Annotations and Study Aids   \n",
       "6786                                           Hauptbd.   \n",
       "6787                                   without subtitle   \n",
       "6800                                   without subtitle   \n",
       "\n",
       "                                   authors categories  \\\n",
       "16             Margaret Weis;Tracy Hickman        NaN   \n",
       "555                            Philip Roth        NaN   \n",
       "644                         John Steinbeck        NaN   \n",
       "646             Pelham Grenville Wodehouse        NaN   \n",
       "650                            Paul Auster        NaN   \n",
       "...                                    ...        ...   \n",
       "6722                      Carson McCullers        NaN   \n",
       "6785  Jerome David Salinger;Rudolph F. Rau        NaN   \n",
       "6786                           Paul Auster        NaN   \n",
       "6787                           Nick Hornby        NaN   \n",
       "6800                           Marc Sautet        NaN   \n",
       "\n",
       "                                            description  published_year  \\\n",
       "16    Gareth is just a frightened young lad when he ...          2001.0   \n",
       "555   As a student in college, David Kepesh styles h...          1995.0   \n",
       "644                                                 NaN          1987.0   \n",
       "646                                                 NaN          1981.0   \n",
       "650                                                 NaN          1987.0   \n",
       "...                                                 ...             ...   \n",
       "6722                                                NaN          2017.0   \n",
       "6785                                                NaN          1999.0   \n",
       "6786                                                NaN          2001.0   \n",
       "6787                                                NaN          2002.0   \n",
       "6800  Not only does Nietzsche for Beginners delve in...          2004.0   \n",
       "\n",
       "      average_rating  ratings_count  \n",
       "16              3.66           68.0  \n",
       "555             3.65         1950.0  \n",
       "644             3.64         1431.0  \n",
       "646             4.39         3143.0  \n",
       "650             3.79        11696.0  \n",
       "...              ...            ...  \n",
       "6722            4.38         1015.0  \n",
       "6785            3.80           69.0  \n",
       "6786            3.91         6230.0  \n",
       "6787            3.80          155.0  \n",
       "6800            3.26           21.0  \n",
       "\n",
       "[99 rows x 8 columns]"
      ]
     },
     "execution_count": 103,
     "metadata": {},
     "output_type": "execute_result"
    }
   ],
   "source": [
    "# analzamos los nulos\n",
    "df_books[df_books.categories.isna()]"
   ]
  },
  {
   "cell_type": "code",
   "execution_count": 118,
   "metadata": {},
   "outputs": [],
   "source": [
    "# filtramos los libros que les falta categories\n",
    "df_categories_null = df_books[df_books.categories.isna()]['title'].tolist()"
   ]
  },
  {
   "cell_type": "code",
   "execution_count": 119,
   "metadata": {},
   "outputs": [],
   "source": [
    "def get_categories_by_title(title):\n",
    "    url = \"https://www.googleapis.com/books/v1/volumes\"\n",
    "    params = {\n",
    "        \"q\": f\"intitle:{title}\",\n",
    "        \"maxResults\": 1\n",
    "    }\n",
    "    try:\n",
    "        response = requests.get(url, params=params)\n",
    "        response.raise_for_status()\n",
    "        data = response.json()\n",
    "        \n",
    "        if \"items\" in data:\n",
    "            # Extraer la categoria si existe\n",
    "            categories = data['items'][0]['volumeInfo'].get('categories', None)\n",
    "            return categories\n",
    "        else:\n",
    "            return None\n",
    "    except (requests.RequestException, ValueError) as e:\n",
    "        print(f\"Error al obtener datos para el libro {title}: {e}\")\n",
    "        return None"
   ]
  },
  {
   "cell_type": "code",
   "execution_count": 120,
   "metadata": {},
   "outputs": [],
   "source": [
    "categorie_dict={}"
   ]
  },
  {
   "cell_type": "code",
   "execution_count": 121,
   "metadata": {},
   "outputs": [],
   "source": [
    "for title in df_categories_null:\n",
    "    categorie = get_categories_by_title(title)\n",
    "    categorie_dict[title] = categorie"
   ]
  },
  {
   "cell_type": "code",
   "execution_count": 129,
   "metadata": {},
   "outputs": [],
   "source": [
    "# Llenar las descripciones nulas en el DataFrame original\n",
    "df_books['categories'] = df_books.apply(\n",
    "    lambda row: categorie_dict.get(row['title'], row['categories']) if pd.isnull(row['categories']) else row['categories'],\n",
    "    axis=1\n",
    ")"
   ]
  },
  {
   "cell_type": "code",
   "execution_count": 135,
   "metadata": {},
   "outputs": [
    {
     "data": {
      "text/plain": [
       "np.int64(19)"
      ]
     },
     "execution_count": 135,
     "metadata": {},
     "output_type": "execute_result"
    }
   ],
   "source": [
    "# la api de google no pudo llenar la categoria de estos libros\n",
    "df_books.categories.isna().sum()"
   ]
  },
  {
   "cell_type": "code",
   "execution_count": 136,
   "metadata": {},
   "outputs": [],
   "source": [
    "# Procedemos a reemplazarlo por \"unknown\"\n",
    "df_books.categories.fillna('unknown',inplace=True)"
   ]
  },
  {
   "cell_type": "markdown",
   "metadata": {},
   "source": [
    "#### Description"
   ]
  },
  {
   "cell_type": "code",
   "execution_count": 146,
   "metadata": {},
   "outputs": [],
   "source": [
    "df_description_null=df_books[df_books.description.isna()]['title'].tolist()"
   ]
  },
  {
   "cell_type": "code",
   "execution_count": 141,
   "metadata": {},
   "outputs": [],
   "source": [
    "def get_description_by_title(title):\n",
    "    url = \"https://www.googleapis.com/books/v1/volumes\"\n",
    "    params = {\n",
    "        \"q\": f\"intitle:{title}\",\n",
    "        \"maxResults\": 1\n",
    "    }\n",
    "    try:\n",
    "        response = requests.get(url, params=params)\n",
    "        response.raise_for_status()\n",
    "        data = response.json()\n",
    "        \n",
    "        if \"items\" in data:\n",
    "            # Extraer la categoria si existe\n",
    "            description = data['items'][0]['volumeInfo'].get('description', None)\n",
    "            return description\n",
    "        else:\n",
    "            return None\n",
    "    except (requests.RequestException, ValueError) as e:\n",
    "        print(f\"Error al obtener datos para el libro {title}: {e}\")\n",
    "        return None"
   ]
  },
  {
   "cell_type": "code",
   "execution_count": 147,
   "metadata": {},
   "outputs": [],
   "source": [
    "description_dict = {}"
   ]
  },
  {
   "cell_type": "code",
   "execution_count": 152,
   "metadata": {},
   "outputs": [],
   "source": [
    "for title in df_description_null:\n",
    "    description = get_description_by_title(title)\n",
    "    description_dict[title] = description"
   ]
  },
  {
   "cell_type": "code",
   "execution_count": 155,
   "metadata": {},
   "outputs": [],
   "source": [
    "df_books['description'] = df_books.apply(\n",
    "    lambda row: description_dict.get(row['title'], row['description']) if pd.isnull(row['description']) else row['description'],\n",
    "    axis=1\n",
    ")"
   ]
  },
  {
   "cell_type": "code",
   "execution_count": 160,
   "metadata": {},
   "outputs": [
    {
     "data": {
      "text/plain": [
       "np.int64(87)"
      ]
     },
     "execution_count": 160,
     "metadata": {},
     "output_type": "execute_result"
    }
   ],
   "source": [
    "# Quedaron nulos, los reemplazaremos por 'with description'\n",
    "df_books['description'].isna().sum()"
   ]
  },
  {
   "cell_type": "code",
   "execution_count": 161,
   "metadata": {},
   "outputs": [],
   "source": [
    "df_books['description'].fillna('with description',inplace=True)"
   ]
  },
  {
   "cell_type": "markdown",
   "metadata": {},
   "source": [
    "#### publisher_year"
   ]
  },
  {
   "cell_type": "code",
   "execution_count": 170,
   "metadata": {},
   "outputs": [],
   "source": [
    "df_year_null = df_books[df_books.published_year.isna()]['title'].tolist()"
   ]
  },
  {
   "cell_type": "code",
   "execution_count": 171,
   "metadata": {},
   "outputs": [
    {
     "data": {
      "text/plain": [
       "['Book Club',\n",
       " 'The Civil War',\n",
       " 'The Fellowship of the Ring',\n",
       " 'Grade 4 Common Core Exemplar Collection',\n",
       " 'Frankenstein: City of Night: A Novel',\n",
       " '20000 LEAGUES UNDER THE SEA']"
      ]
     },
     "execution_count": 171,
     "metadata": {},
     "output_type": "execute_result"
    }
   ],
   "source": [
    "df_year_null"
   ]
  },
  {
   "cell_type": "code",
   "execution_count": 173,
   "metadata": {},
   "outputs": [
    {
     "data": {
      "text/html": [
       "<div>\n",
       "<style scoped>\n",
       "    .dataframe tbody tr th:only-of-type {\n",
       "        vertical-align: middle;\n",
       "    }\n",
       "\n",
       "    .dataframe tbody tr th {\n",
       "        vertical-align: top;\n",
       "    }\n",
       "\n",
       "    .dataframe thead th {\n",
       "        text-align: right;\n",
       "    }\n",
       "</style>\n",
       "<table border=\"1\" class=\"dataframe\">\n",
       "  <thead>\n",
       "    <tr style=\"text-align: right;\">\n",
       "      <th></th>\n",
       "      <th>title</th>\n",
       "      <th>subtitle</th>\n",
       "      <th>authors</th>\n",
       "      <th>categories</th>\n",
       "      <th>description</th>\n",
       "      <th>published_year</th>\n",
       "      <th>average_rating</th>\n",
       "      <th>ratings_count</th>\n",
       "    </tr>\n",
       "  </thead>\n",
       "  <tbody>\n",
       "    <tr>\n",
       "      <th>1114</th>\n",
       "      <td>Book Club</td>\n",
       "      <td>Life of Pi (7 Copies).</td>\n",
       "      <td>Yann Martel</td>\n",
       "      <td>[Book clubs (Discussion groups)]</td>\n",
       "      <td>\"Love curling up with a good book? If so, a bo...</td>\n",
       "      <td>NaN</td>\n",
       "      <td>3.90</td>\n",
       "      <td>4242.0</td>\n",
       "    </tr>\n",
       "    <tr>\n",
       "      <th>1428</th>\n",
       "      <td>The Civil War</td>\n",
       "      <td>A Narrative</td>\n",
       "      <td>Shelby Foote</td>\n",
       "      <td>United States</td>\n",
       "      <td>\"Foote's comprehensive history of the Civil Wa...</td>\n",
       "      <td>NaN</td>\n",
       "      <td>4.53</td>\n",
       "      <td>6406.0</td>\n",
       "    </tr>\n",
       "    <tr>\n",
       "      <th>1779</th>\n",
       "      <td>The Fellowship of the Ring</td>\n",
       "      <td>without subtitle</td>\n",
       "      <td>John Ronald Reuel Tolkien</td>\n",
       "      <td>Fiction</td>\n",
       "      <td>Frodo Baggins, Sam, and a small band of compan...</td>\n",
       "      <td>NaN</td>\n",
       "      <td>NaN</td>\n",
       "      <td>NaN</td>\n",
       "    </tr>\n",
       "    <tr>\n",
       "      <th>3062</th>\n",
       "      <td>Grade 4 Common Core Exemplar Collection</td>\n",
       "      <td>without subtitle</td>\n",
       "      <td>Author not found</td>\n",
       "      <td>English language</td>\n",
       "      <td>\"Common Core Classroom Collections include a m...</td>\n",
       "      <td>NaN</td>\n",
       "      <td>4.13</td>\n",
       "      <td>1709.0</td>\n",
       "    </tr>\n",
       "    <tr>\n",
       "      <th>3554</th>\n",
       "      <td>Frankenstein: City of Night: A Novel</td>\n",
       "      <td>without subtitle</td>\n",
       "      <td>Dean Koontz</td>\n",
       "      <td>Horror tales</td>\n",
       "      <td>Detectives Carson O'Connor and Michael Maddiso...</td>\n",
       "      <td>NaN</td>\n",
       "      <td>3.97</td>\n",
       "      <td>1041.0</td>\n",
       "    </tr>\n",
       "    <tr>\n",
       "      <th>4548</th>\n",
       "      <td>20000 LEAGUES UNDER THE SEA</td>\n",
       "      <td>without subtitle</td>\n",
       "      <td>JULIO VERNE</td>\n",
       "      <td>[Fiction]</td>\n",
       "      <td>A group of men set sail to solve the mystery o...</td>\n",
       "      <td>NaN</td>\n",
       "      <td>3.71</td>\n",
       "      <td>34.0</td>\n",
       "    </tr>\n",
       "  </tbody>\n",
       "</table>\n",
       "</div>"
      ],
      "text/plain": [
       "                                        title                subtitle  \\\n",
       "1114                                Book Club  Life of Pi (7 Copies).   \n",
       "1428                            The Civil War             A Narrative   \n",
       "1779               The Fellowship of the Ring        without subtitle   \n",
       "3062  Grade 4 Common Core Exemplar Collection        without subtitle   \n",
       "3554     Frankenstein: City of Night: A Novel        without subtitle   \n",
       "4548              20000 LEAGUES UNDER THE SEA        without subtitle   \n",
       "\n",
       "                        authors                        categories  \\\n",
       "1114                Yann Martel  [Book clubs (Discussion groups)]   \n",
       "1428               Shelby Foote                     United States   \n",
       "1779  John Ronald Reuel Tolkien                           Fiction   \n",
       "3062           Author not found                  English language   \n",
       "3554                Dean Koontz                      Horror tales   \n",
       "4548                JULIO VERNE                         [Fiction]   \n",
       "\n",
       "                                            description  published_year  \\\n",
       "1114  \"Love curling up with a good book? If so, a bo...             NaN   \n",
       "1428  \"Foote's comprehensive history of the Civil Wa...             NaN   \n",
       "1779  Frodo Baggins, Sam, and a small band of compan...             NaN   \n",
       "3062  \"Common Core Classroom Collections include a m...             NaN   \n",
       "3554  Detectives Carson O'Connor and Michael Maddiso...             NaN   \n",
       "4548  A group of men set sail to solve the mystery o...             NaN   \n",
       "\n",
       "      average_rating  ratings_count  \n",
       "1114            3.90         4242.0  \n",
       "1428            4.53         6406.0  \n",
       "1779             NaN            NaN  \n",
       "3062            4.13         1709.0  \n",
       "3554            3.97         1041.0  \n",
       "4548            3.71           34.0  "
      ]
     },
     "execution_count": 173,
     "metadata": {},
     "output_type": "execute_result"
    }
   ],
   "source": [
    "df_books[df_books.published_year.isna()]"
   ]
  },
  {
   "cell_type": "code",
   "execution_count": 182,
   "metadata": {},
   "outputs": [],
   "source": [
    "# Como son pocos libros busque en internet su año de publiacion\n",
    "year_dict = {}\n",
    "year = [2001, 1987, 1954, 2011, 2004, 1870]"
   ]
  },
  {
   "cell_type": "code",
   "execution_count": 183,
   "metadata": {},
   "outputs": [],
   "source": [
    "for i, title in enumerate(df_year_null):  # enumerate() para obtener índice y título\n",
    "    year_dict[title] = year[i]"
   ]
  },
  {
   "cell_type": "code",
   "execution_count": 185,
   "metadata": {},
   "outputs": [],
   "source": [
    "# LLenaremos los valores nulos en df_books\n",
    "df_books['published_year'] = df_books.apply(\n",
    "    lambda row: year_dict.get(row['title'], row['published_year']) if pd.isnull(row['published_year']) else row['published_year'],\n",
    "    axis=1\n",
    ")"
   ]
  },
  {
   "cell_type": "code",
   "execution_count": null,
   "metadata": {},
   "outputs": [],
   "source": [
    "# Convertimos el tipo de dato float a datetime"
   ]
  },
  {
   "cell_type": "code",
   "execution_count": 191,
   "metadata": {},
   "outputs": [],
   "source": [
    "# Convertimos los años a formato de fecha usando el 1 de enero como día predeterminado\n",
    "df_books['published_year'] = pd.to_datetime(df_books['published_year'], format='%Y', errors='coerce')"
   ]
  },
  {
   "cell_type": "code",
   "execution_count": 194,
   "metadata": {},
   "outputs": [],
   "source": [
    "df_books['year'] = df_books['published_year'].dt.year"
   ]
  },
  {
   "cell_type": "markdown",
   "metadata": {},
   "source": [
    "#### average_rating  "
   ]
  },
  {
   "cell_type": "code",
   "execution_count": 202,
   "metadata": {},
   "outputs": [
    {
     "data": {
      "text/html": [
       "<div>\n",
       "<style scoped>\n",
       "    .dataframe tbody tr th:only-of-type {\n",
       "        vertical-align: middle;\n",
       "    }\n",
       "\n",
       "    .dataframe tbody tr th {\n",
       "        vertical-align: top;\n",
       "    }\n",
       "\n",
       "    .dataframe thead th {\n",
       "        text-align: right;\n",
       "    }\n",
       "</style>\n",
       "<table border=\"1\" class=\"dataframe\">\n",
       "  <thead>\n",
       "    <tr style=\"text-align: right;\">\n",
       "      <th></th>\n",
       "      <th>title</th>\n",
       "      <th>subtitle</th>\n",
       "      <th>authors</th>\n",
       "      <th>categories</th>\n",
       "      <th>description</th>\n",
       "      <th>published_year</th>\n",
       "      <th>average_rating</th>\n",
       "      <th>ratings_count</th>\n",
       "      <th>year</th>\n",
       "    </tr>\n",
       "  </thead>\n",
       "  <tbody>\n",
       "  </tbody>\n",
       "</table>\n",
       "</div>"
      ],
      "text/plain": [
       "Empty DataFrame\n",
       "Columns: [title, subtitle, authors, categories, description, published_year, average_rating, ratings_count, year]\n",
       "Index: []"
      ]
     },
     "execution_count": 202,
     "metadata": {},
     "output_type": "execute_result"
    }
   ],
   "source": [
    "# analizamos los datos en el campo averga_rating\n",
    "df_books[df_books.average_rating.isna()]"
   ]
  },
  {
   "cell_type": "code",
   "execution_count": 200,
   "metadata": {},
   "outputs": [
    {
     "data": {
      "text/plain": [
       "np.float64(3.933283582089552)"
      ]
     },
     "execution_count": 200,
     "metadata": {},
     "output_type": "execute_result"
    }
   ],
   "source": [
    "df_books.average_rating.mean()"
   ]
  },
  {
   "cell_type": "code",
   "execution_count": 201,
   "metadata": {},
   "outputs": [],
   "source": [
    "df_books.average_rating.fillna(3.93, inplace=True)"
   ]
  },
  {
   "cell_type": "markdown",
   "metadata": {},
   "source": [
    "#### ratings_count   "
   ]
  },
  {
   "cell_type": "code",
   "execution_count": null,
   "metadata": {},
   "outputs": [],
   "source": [
    "df_books[df_books.ratings_count.isna()]"
   ]
  },
  {
   "cell_type": "code",
   "execution_count": 207,
   "metadata": {},
   "outputs": [
    {
     "data": {
      "text/plain": [
       "np.float64(21069.09989655682)"
      ]
     },
     "execution_count": 207,
     "metadata": {},
     "output_type": "execute_result"
    }
   ],
   "source": [
    "df_books.ratings_count.mean()"
   ]
  },
  {
   "cell_type": "code",
   "execution_count": 208,
   "metadata": {},
   "outputs": [],
   "source": [
    "df_books.ratings_count.fillna(21069.09,inplace=True)"
   ]
  },
  {
   "cell_type": "markdown",
   "metadata": {},
   "source": [
    "# Exportamos en csv el dataframe final"
   ]
  },
  {
   "cell_type": "code",
   "execution_count": 210,
   "metadata": {},
   "outputs": [],
   "source": [
    "df_final = df_books[['title','subtitle','authors','categories','description','average_rating','ratings_count','year']]"
   ]
  },
  {
   "cell_type": "code",
   "execution_count": 213,
   "metadata": {},
   "outputs": [],
   "source": [
    "df_final.to_csv('books_clean.csv',index=False)"
   ]
  }
 ],
 "metadata": {
  "kernelspec": {
   "display_name": "venv",
   "language": "python",
   "name": "python3"
  },
  "language_info": {
   "codemirror_mode": {
    "name": "ipython",
    "version": 3
   },
   "file_extension": ".py",
   "mimetype": "text/x-python",
   "name": "python",
   "nbconvert_exporter": "python",
   "pygments_lexer": "ipython3",
   "version": "3.10.12"
  }
 },
 "nbformat": 4,
 "nbformat_minor": 2
}
